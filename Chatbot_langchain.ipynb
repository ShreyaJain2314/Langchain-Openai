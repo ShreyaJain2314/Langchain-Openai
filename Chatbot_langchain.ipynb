{
 "cells": [
  {
   "cell_type": "code",
   "execution_count": 1,
   "id": "8535d4fb-29c9-4dbc-968f-e6e3a61d010d",
   "metadata": {},
   "outputs": [],
   "source": [
    "import openai\n",
    "import os\n",
    "# Set keys\n",
    "api_key=\"4b81012d55fb416c9e398f6149c3071e\"\n",
    "api_base =  \"https://ey-sandbox.openai.azure.com/\"\n",
    "os.environ[\"OPENAI_API_TYPE\"] = \"azure\"\n",
    "os.environ[\"OPENAI_API_BASE\"] = \"\"\n",
    "os.environ[\"OPENAI_API_KEY\"] = api_key\n",
    "openai.api_key = api_key\n",
    "openai.api_base = api_base\n",
    "openai.api_type = 'azure'\n",
    "openai.api_version = '2023-07-01-preview'\n",
    "#openai.api_version = '2023-09-15-preview'"
   ]
  },
  {
   "cell_type": "code",
   "execution_count": 2,
   "id": "d2911d8b-87d7-4f1f-a08c-518194e3f4a3",
   "metadata": {},
   "outputs": [],
   "source": [
    "from langchain.schema import HumanMessage,SystemMessage\n",
    "from langchain_openai import ChatOpenAI\n",
    "\n",
    "def get_completion(prompt, engine=\"gpt-35-turbo\", temperature=0):\n",
    "    messages = [{\"role\": \"user\", \"content\": prompt}]\n",
    "    response = openai.ChatCompletion.create(\n",
    "        engine=engine,\n",
    "        messages=messages,\n",
    "        temperature=temperature,  # this is the degree of randomness of the model's output\n",
    "    )\n",
    "    return response.choices[0].message[\"content\"]\n",
    "\n",
    "  "
   ]
  },
  {
   "cell_type": "code",
   "execution_count": 3,
   "id": "b4134631-8525-4573-8d0f-a7af039553f7",
   "metadata": {},
   "outputs": [
    {
     "data": {
      "text/plain": [
       "\"J'aime programmer.\""
      ]
     },
     "execution_count": 3,
     "metadata": {},
     "output_type": "execute_result"
    }
   ],
   "source": [
    "get_completion(\"Translate this sentence from English to French: I love programming.\")"
   ]
  },
  {
   "cell_type": "code",
   "execution_count": 4,
   "id": "9bd4c9d6-7356-4d5f-b360-9393e37e821f",
   "metadata": {},
   "outputs": [],
   "source": [
    "def get_completion_m(prompt, engine=\"gpt-35-turbo\", temperature=0):\n",
    "    messages = [\n",
    "        SystemMessage(\n",
    "            content=\"You are a helpful assistant that translates English to French.\"\n",
    "        ),\n",
    "        HumanMessage(content=\"I love programming.\"),\n",
    "    ]\n",
    "    response = openai.ChatCompletion.create(\n",
    "        engine=engine,\n",
    "        messages=messages,\n",
    "        temperature=temperature,  # this is the degree of randomness of the model's output\n",
    "    )\n",
    "    return response.choices[0].message[\"content\"]\n"
   ]
  },
  {
   "cell_type": "code",
   "execution_count": 8,
   "id": "15b41f02-bae5-4693-a5fd-497cfd95755c",
   "metadata": {},
   "outputs": [
    {
     "data": {
      "text/plain": [
       "'Je adore la programmation.'"
      ]
     },
     "execution_count": 8,
     "metadata": {},
     "output_type": "execute_result"
    }
   ],
   "source": [
    "from langchain.chains import ConversationChain\n",
    "from langchain_community.chat_models.azure_openai import AzureChatOpenAI\n",
    "chat=AzureChatOpenAI(openai_api_version=\"2023-07-01-preview\", azure_deployment=\"gpt-35-turbo\",)\n",
    "                     \n",
    "conversation = ConversationChain(llm=chat)\n",
    "conversation.run(\"Translate this sentence from English to French: I love programming.\")"
   ]
  },
  {
   "cell_type": "code",
   "execution_count": 10,
   "id": "4ff6b9d2-f17d-4f90-bf24-07cb699d135c",
   "metadata": {},
   "outputs": [
    {
     "name": "stderr",
     "output_type": "stream",
     "text": [
      "C:\\Users\\PH735WK\\myenv\\Lib\\site-packages\\langchain_core\\_api\\deprecation.py:117: LangChainDeprecationWarning: The function `__call__` was deprecated in LangChain 0.1.7 and will be removed in 0.2.0. Use invoke instead.\n",
      "  warn_deprecated(\n"
     ]
    },
    {
     "data": {
      "text/plain": [
       "AIMessage(content=\"J'aime programmer.\")"
      ]
     },
     "execution_count": 10,
     "metadata": {},
     "output_type": "execute_result"
    }
   ],
   "source": [
    "message = HumanMessage(\n",
    "    content=\"Translate this sentence from English to French. I love programming.\"\n",
    ")\n",
    "chat([message])"
   ]
  },
  {
   "cell_type": "code",
   "execution_count": 11,
   "id": "6fd1a721-993e-434d-a629-e7a9e7fd0770",
   "metadata": {},
   "outputs": [
    {
     "name": "stdout",
     "output_type": "stream",
     "text": [
      "Total Cost (USD): $0.000040\n"
     ]
    }
   ],
   "source": [
    "from langchain.callbacks import get_openai_callback\n",
    "\n",
    "with get_openai_callback() as cb:\n",
    "    chat([message])\n",
    "    print(\n",
    "        f\"Total Cost (USD): ${format(cb.total_cost, '.6f')}\"\n",
    "    )  # without specifying the model version, flat-rate 0.002 USD per 1k input and output tokens is used"
   ]
  },
  {
   "cell_type": "code",
   "execution_count": 12,
   "id": "cc147705-a20e-4ac5-a820-e695c4d144b6",
   "metadata": {},
   "outputs": [],
   "source": [
    "from langchain.memory import ConversationBufferMemory\n",
    "\n",
    "memory = ConversationBufferMemory()\n",
    "memory.chat_memory.add_user_message(\"hi!\")\n",
    "memory.chat_memory.add_ai_message(\"whats up?\")"
   ]
  },
  {
   "cell_type": "code",
   "execution_count": 13,
   "id": "46958cd6-6e40-4271-a98c-8ea659aecb39",
   "metadata": {},
   "outputs": [
    {
     "data": {
      "text/plain": [
       "{'history': 'Human: hi!\\nAI: whats up?'}"
      ]
     },
     "execution_count": 13,
     "metadata": {},
     "output_type": "execute_result"
    }
   ],
   "source": [
    "memory.load_memory_variables({})"
   ]
  },
  {
   "cell_type": "code",
   "execution_count": 14,
   "id": "6e97d99b-48c6-47af-bd08-45c266e5d4d0",
   "metadata": {},
   "outputs": [
    {
     "data": {
      "text/plain": [
       "{'history': 'Human: not much you\\nAI: not much'}"
      ]
     },
     "execution_count": 14,
     "metadata": {},
     "output_type": "execute_result"
    }
   ],
   "source": [
    "from langchain.memory import ConversationBufferWindowMemory\n",
    "\n",
    "memory = ConversationBufferWindowMemory(k=1)\n",
    "memory.save_context({\"input\": \"hi\"}, {\"output\": \"whats up\"})\n",
    "memory.save_context({\"input\": \"not much you\"}, {\"output\": \"not much\"})\n",
    "memory.load_memory_variables({})"
   ]
  },
  {
   "cell_type": "code",
   "execution_count": 21,
   "id": "6769433a-c3b9-4abf-9a57-78e881b3cc67",
   "metadata": {},
   "outputs": [],
   "source": [
    "from langchain.memory import ConversationSummaryMemory\n",
    "from langchain_openai import OpenAI\n",
    "engine=\"gpt-35-turbo\"\n",
    "llm = AzureChatOpenAI(temperature=0,openai_api_key=api_key,model=engine)\n",
    "memory = ConversationSummaryMemory(llm=chat)\n",
    "memory.save_context({\"input\": \"hi\"}, {\"output\": \"whats up\"})\n",
    "memory.save_context(\n",
    "    {\"input\": \"im working on better docs for chatbots\"},\n",
    "    {\"output\": \"oh, that sounds like a lot of work\"},\n",
    ")\n",
    "memory.save_context(\n",
    "    {\"input\": \"yes, but it's worth the effort\"},\n",
    "    {\"output\": \"agreed, good docs are important!\"},\n",
    ")"
   ]
  },
  {
   "cell_type": "code",
   "execution_count": 22,
   "id": "e9d92f91-a6d1-4397-8742-7711d3b83aae",
   "metadata": {},
   "outputs": [
    {
     "data": {
      "text/plain": [
       "{'history': \"The human greets the AI and they exchange pleasantries. The human mentions they are working on improving documentation for chatbots, and the AI acknowledges that it sounds like a lot of work. However, the human emphasizes that it's worth the effort, to which the AI agrees, stating that good documentation is important.\"}"
      ]
     },
     "execution_count": 22,
     "metadata": {},
     "output_type": "execute_result"
    }
   ],
   "source": [
    "memory.load_memory_variables({})"
   ]
  },
  {
   "cell_type": "code",
   "execution_count": 23,
   "id": "68de7632-0104-4326-8422-558aaf6753cd",
   "metadata": {},
   "outputs": [],
   "source": [
    "from langchain.memory import ConversationSummaryBufferMemory\n",
    "\n",
    "memory = ConversationSummaryBufferMemory(llm=chat, max_token_limit=10)\n",
    "memory.save_context({\"input\": \"hi\"}, {\"output\": \"whats up\"})\n",
    "memory.save_context({\"input\": \"not much you\"}, {\"output\": \"not much\"})"
   ]
  },
  {
   "cell_type": "code",
   "execution_count": 25,
   "id": "3f12e880-ae18-46bc-808d-411db74b2053",
   "metadata": {},
   "outputs": [
    {
     "name": "stderr",
     "output_type": "stream",
     "text": [
      "C:\\Users\\PH735WK\\myenv\\Lib\\site-packages\\langchain_core\\_api\\deprecation.py:117: LangChainDeprecationWarning: The function `__call__` was deprecated in LangChain 0.1.0 and will be removed in 0.2.0. Use invoke instead.\n",
      "  warn_deprecated(\n"
     ]
    },
    {
     "name": "stdout",
     "output_type": "stream",
     "text": [
      "\n",
      "\n",
      "\u001b[1m> Entering new LLMChain chain...\u001b[0m\n",
      "Prompt after formatting:\n",
      "\u001b[32;1m\u001b[1;3mSystem: You are a nice chatbot having a conversation with a human.\n",
      "Human: hi\u001b[0m\n",
      "\n",
      "\u001b[1m> Finished chain.\u001b[0m\n"
     ]
    },
    {
     "data": {
      "text/plain": [
       "{'question': 'hi',\n",
       " 'chat_history': [HumanMessage(content='hi'),\n",
       "  AIMessage(content='Hello! How are you doing today?')],\n",
       " 'text': 'Hello! How are you doing today?'}"
      ]
     },
     "execution_count": 25,
     "metadata": {},
     "output_type": "execute_result"
    }
   ],
   "source": [
    "from langchain.chains import LLMChain\n",
    "from langchain.prompts import (\n",
    "    ChatPromptTemplate,\n",
    "    HumanMessagePromptTemplate,\n",
    "    MessagesPlaceholder,\n",
    "    SystemMessagePromptTemplate,\n",
    ")\n",
    "\n",
    "\n",
    "\n",
    "# Prompt\n",
    "prompt = ChatPromptTemplate(\n",
    "    messages=[\n",
    "        SystemMessagePromptTemplate.from_template(\n",
    "            \"You are a nice chatbot having a conversation with a human.\"\n",
    "        ),\n",
    "        # The `variable_name` here is what must align with memory\n",
    "        MessagesPlaceholder(variable_name=\"chat_history\"),\n",
    "        HumanMessagePromptTemplate.from_template(\"{question}\"),\n",
    "    ]\n",
    ")\n",
    "\n",
    "# Notice that we `return_messages=True` to fit into the MessagesPlaceholder\n",
    "# Notice that `\"chat_history\"` aligns with the MessagesPlaceholder name\n",
    "memory = ConversationBufferMemory(memory_key=\"chat_history\", return_messages=True)\n",
    "conversation = LLMChain(llm=chat, prompt=prompt, verbose=True, memory=memory)\n",
    "\n",
    "# Notice that we just pass in the `question` variables - `chat_history` gets populated by memory\n",
    "conversation({\"question\": \"hi\"})"
   ]
  },
  {
   "cell_type": "code",
   "execution_count": 26,
   "id": "2a34c302-8203-4fa6-94eb-1dd169b383f5",
   "metadata": {},
   "outputs": [
    {
     "name": "stdout",
     "output_type": "stream",
     "text": [
      "\n",
      "\n",
      "\u001b[1m> Entering new LLMChain chain...\u001b[0m\n",
      "Prompt after formatting:\n",
      "\u001b[32;1m\u001b[1;3mSystem: You are a nice chatbot having a conversation with a human.\n",
      "Human: hi\n",
      "AI: Hello! How are you doing today?\n",
      "Human: Translate this sentence from English to French: I love programming.\u001b[0m\n",
      "\n",
      "\u001b[1m> Finished chain.\u001b[0m\n"
     ]
    },
    {
     "data": {
      "text/plain": [
       "{'question': 'Translate this sentence from English to French: I love programming.',\n",
       " 'chat_history': [HumanMessage(content='hi'),\n",
       "  AIMessage(content='Hello! How are you doing today?'),\n",
       "  HumanMessage(content='Translate this sentence from English to French: I love programming.'),\n",
       "  AIMessage(content='\"J\\'aime programmer.\"')],\n",
       " 'text': '\"J\\'aime programmer.\"'}"
      ]
     },
     "execution_count": 26,
     "metadata": {},
     "output_type": "execute_result"
    }
   ],
   "source": [
    "conversation(\n",
    "    {\"question\": \"Translate this sentence from English to French: I love programming.\"}\n",
    ")"
   ]
  },
  {
   "cell_type": "code",
   "execution_count": 27,
   "id": "20f03b4b-71a3-41fc-b446-4c8dd05fadab",
   "metadata": {},
   "outputs": [
    {
     "name": "stdout",
     "output_type": "stream",
     "text": [
      "\n",
      "\n",
      "\u001b[1m> Entering new LLMChain chain...\u001b[0m\n",
      "Prompt after formatting:\n",
      "\u001b[32;1m\u001b[1;3mSystem: You are a nice chatbot having a conversation with a human.\n",
      "Human: hi\n",
      "AI: Hello! How are you doing today?\n",
      "Human: Translate this sentence from English to French: I love programming.\n",
      "AI: \"J'aime programmer.\"\n",
      "Human: Now translate the sentence to German.\u001b[0m\n",
      "\n",
      "\u001b[1m> Finished chain.\u001b[0m\n"
     ]
    },
    {
     "data": {
      "text/plain": [
       "{'question': 'Now translate the sentence to German.',\n",
       " 'chat_history': [HumanMessage(content='hi'),\n",
       "  AIMessage(content='Hello! How are you doing today?'),\n",
       "  HumanMessage(content='Translate this sentence from English to French: I love programming.'),\n",
       "  AIMessage(content='\"J\\'aime programmer.\"'),\n",
       "  HumanMessage(content='Now translate the sentence to German.'),\n",
       "  AIMessage(content='\"Ich liebe programmieren.\"')],\n",
       " 'text': '\"Ich liebe programmieren.\"'}"
      ]
     },
     "execution_count": 27,
     "metadata": {},
     "output_type": "execute_result"
    }
   ],
   "source": [
    "conversation({\"question\": \"Now translate the sentence to German.\"})"
   ]
  },
  {
   "cell_type": "code",
   "execution_count": 28,
   "id": "256f52b7-e065-49f1-8f4a-18d532164d76",
   "metadata": {},
   "outputs": [
    {
     "name": "stdout",
     "output_type": "stream",
     "text": [
      "\n",
      "\n",
      "\u001b[1m> Entering new LLMChain chain...\u001b[0m\n",
      "Prompt after formatting:\n",
      "\u001b[32;1m\u001b[1;3mSystem: You are a nice chatbot having a conversation with a human.\n",
      "Human: hi\n",
      "AI: Hello! How are you doing today?\n",
      "Human: Translate this sentence from English to French: I love programming.\n",
      "AI: \"J'aime programmer.\"\n",
      "Human: Now translate the sentence to German.\n",
      "AI: \"Ich liebe programmieren.\"\n",
      "Human: Now translate the sentence to Punjabi.\u001b[0m\n",
      "\n",
      "\u001b[1m> Finished chain.\u001b[0m\n"
     ]
    },
    {
     "data": {
      "text/plain": [
       "{'question': 'Now translate the sentence to Punjabi.',\n",
       " 'chat_history': [HumanMessage(content='hi'),\n",
       "  AIMessage(content='Hello! How are you doing today?'),\n",
       "  HumanMessage(content='Translate this sentence from English to French: I love programming.'),\n",
       "  AIMessage(content='\"J\\'aime programmer.\"'),\n",
       "  HumanMessage(content='Now translate the sentence to German.'),\n",
       "  AIMessage(content='\"Ich liebe programmieren.\"'),\n",
       "  HumanMessage(content='Now translate the sentence to Punjabi.'),\n",
       "  AIMessage(content='ਮੈਂ ਪ੍ਰੋਗਰਾਮਿੰਗ ਨੂੰ ਪਿਆਰ ਕਰਦਾ ਹਾਂ।')],\n",
       " 'text': 'ਮੈਂ ਪ੍ਰੋਗਰਾਮਿੰਗ ਨੂੰ ਪਿਆਰ ਕਰਦਾ ਹਾਂ।'}"
      ]
     },
     "execution_count": 28,
     "metadata": {},
     "output_type": "execute_result"
    }
   ],
   "source": [
    "conversation({\"question\": \"Now translate the sentence to Punjabi.\"})"
   ]
  },
  {
   "cell_type": "code",
   "execution_count": 29,
   "id": "87258d9b-8dfd-4acc-8e71-c1b3ab22ddc0",
   "metadata": {},
   "outputs": [
    {
     "name": "stdout",
     "output_type": "stream",
     "text": [
      "Note: you may need to restart the kernel to use updated packages.\n"
     ]
    },
    {
     "name": "stderr",
     "output_type": "stream",
     "text": [
      "\n",
      "[notice] A new release of pip is available: 23.3.1 -> 23.3.2\n",
      "[notice] To update, run: python.exe -m pip install --upgrade pip\n"
     ]
    }
   ],
   "source": [
    "pip install --upgrade --quiet  tiktoken chromadb"
   ]
  },
  {
   "cell_type": "code",
   "execution_count": 30,
   "id": "a9fe802a-1905-4a23-bda3-1a98b43b43bd",
   "metadata": {},
   "outputs": [],
   "source": [
    "from langchain_community.document_loaders import WebBaseLoader\n",
    "\n",
    "loader=WebBaseLoader(\"https://lilianweng.github.io/posts/2023-06-23-agent/\")\n",
    "data=loader.load()"
   ]
  },
  {
   "cell_type": "code",
   "execution_count": 48,
   "id": "fa2227b1-10e0-4849-b2b3-9505c966fed5",
   "metadata": {},
   "outputs": [
    {
     "name": "stdout",
     "output_type": "stream",
     "text": [
      "Collecting unstructured\n",
      "  Downloading unstructured-0.12.0-py3-none-any.whl.metadata (26 kB)\n",
      "Collecting docx2txt\n",
      "  Using cached docx2txt-0.8-py3-none-any.whl\n",
      "Requirement already satisfied: chardet in c:\\users\\ph735wk\\myenv\\lib\\site-packages (from unstructured) (3.0.4)\n",
      "Requirement already satisfied: filetype in c:\\users\\ph735wk\\myenv\\lib\\site-packages (from unstructured) (1.2.0)\n",
      "Collecting python-magic (from unstructured)\n",
      "  Downloading python_magic-0.4.27-py2.py3-none-any.whl (13 kB)\n",
      "Requirement already satisfied: lxml in c:\\users\\ph735wk\\myenv\\lib\\site-packages (from unstructured) (4.9.3)\n",
      "Requirement already satisfied: nltk in c:\\users\\ph735wk\\myenv\\lib\\site-packages (from unstructured) (3.8.1)\n",
      "Requirement already satisfied: tabulate in c:\\users\\ph735wk\\myenv\\lib\\site-packages (from unstructured) (0.9.0)\n",
      "Requirement already satisfied: requests in c:\\users\\ph735wk\\myenv\\lib\\site-packages (from unstructured) (2.31.0)\n",
      "Requirement already satisfied: beautifulsoup4 in c:\\users\\ph735wk\\myenv\\lib\\site-packages (from unstructured) (4.12.2)\n",
      "Collecting emoji (from unstructured)\n",
      "  Downloading emoji-2.10.0-py2.py3-none-any.whl.metadata (5.3 kB)\n",
      "Requirement already satisfied: dataclasses-json in c:\\users\\ph735wk\\myenv\\lib\\site-packages (from unstructured) (0.5.14)\n",
      "Collecting python-iso639 (from unstructured)\n",
      "  Downloading python_iso639-2024.1.2-py3-none-any.whl.metadata (13 kB)\n",
      "Requirement already satisfied: langdetect in c:\\users\\ph735wk\\myenv\\lib\\site-packages (from unstructured) (1.0.9)\n",
      "Requirement already satisfied: numpy in c:\\users\\ph735wk\\myenv\\lib\\site-packages (from unstructured) (1.26.2)\n",
      "Collecting rapidfuzz (from unstructured)\n",
      "  Downloading rapidfuzz-3.6.1-cp311-cp311-win_amd64.whl.metadata (11 kB)\n",
      "Requirement already satisfied: backoff in c:\\users\\ph735wk\\myenv\\lib\\site-packages (from unstructured) (2.2.1)\n",
      "Requirement already satisfied: typing-extensions in c:\\users\\ph735wk\\myenv\\lib\\site-packages (from unstructured) (4.8.0)\n",
      "Collecting unstructured-client (from unstructured)\n",
      "  Downloading unstructured_client-0.15.2-py3-none-any.whl.metadata (4.9 kB)\n",
      "Requirement already satisfied: wrapt in c:\\users\\ph735wk\\myenv\\lib\\site-packages (from unstructured) (1.14.1)\n",
      "Collecting onnx (from unstructured[pdf])\n",
      "  Downloading onnx-1.15.0-cp311-cp311-win_amd64.whl.metadata (15 kB)\n",
      "Collecting pdf2image (from unstructured[pdf])\n",
      "  Downloading pdf2image-1.17.0-py3-none-any.whl.metadata (6.2 kB)\n",
      "Requirement already satisfied: pdfminer.six in c:\\users\\ph735wk\\myenv\\lib\\site-packages (from unstructured[pdf]) (20221105)\n",
      "Collecting pikepdf (from unstructured[pdf])\n",
      "  Downloading pikepdf-8.11.2-cp311-cp311-win_amd64.whl.metadata (8.7 kB)\n",
      "Collecting pypdf (from unstructured[pdf])\n",
      "  Downloading pypdf-4.0.0-py3-none-any.whl.metadata (7.4 kB)\n",
      "Collecting unstructured-inference==0.7.21 (from unstructured[pdf])\n",
      "  Downloading unstructured_inference-0.7.21-py3-none-any.whl.metadata (5.8 kB)\n",
      "Collecting unstructured.pytesseract>=0.3.12 (from unstructured[pdf])\n",
      "  Downloading unstructured.pytesseract-0.3.12-py3-none-any.whl.metadata (11 kB)\n",
      "Collecting layoutparser[layoutmodels,tesseract] (from unstructured-inference==0.7.21->unstructured[pdf])\n",
      "  Downloading layoutparser-0.3.4-py3-none-any.whl (19.2 MB)\n",
      "     ---------------------------------------- 0.0/19.2 MB ? eta -:--:--\n",
      "      --------------------------------------- 0.3/19.2 MB 9.9 MB/s eta 0:00:02\n",
      "     -- ------------------------------------- 1.2/19.2 MB 15.0 MB/s eta 0:00:02\n",
      "     --- ------------------------------------ 1.8/19.2 MB 16.3 MB/s eta 0:00:02\n",
      "     --- ------------------------------------ 1.8/19.2 MB 16.3 MB/s eta 0:00:02\n",
      "     ----- ---------------------------------- 2.5/19.2 MB 12.1 MB/s eta 0:00:02\n",
      "     ------- -------------------------------- 3.4/19.2 MB 14.4 MB/s eta 0:00:02\n",
      "     ------- -------------------------------- 3.4/19.2 MB 14.4 MB/s eta 0:00:02\n",
      "     -------- ------------------------------- 4.2/19.2 MB 12.8 MB/s eta 0:00:02\n",
      "     ----------- ---------------------------- 5.4/19.2 MB 14.3 MB/s eta 0:00:01\n",
      "     ------------ --------------------------- 6.0/19.2 MB 14.2 MB/s eta 0:00:01\n",
      "     ------------- -------------------------- 6.7/19.2 MB 14.2 MB/s eta 0:00:01\n",
      "     --------------- ------------------------ 7.2/19.2 MB 13.9 MB/s eta 0:00:01\n",
      "     ---------------- ----------------------- 7.9/19.2 MB 14.0 MB/s eta 0:00:01\n",
      "     ----------------- ---------------------- 8.6/19.2 MB 14.1 MB/s eta 0:00:01\n",
      "     ------------------- -------------------- 9.2/19.2 MB 14.0 MB/s eta 0:00:01\n",
      "     -------------------- ------------------- 9.9/19.2 MB 14.0 MB/s eta 0:00:01\n",
      "     --------------------- ----------------- 10.4/19.2 MB 13.9 MB/s eta 0:00:01\n",
      "     ---------------------- ---------------- 11.1/19.2 MB 14.2 MB/s eta 0:00:01\n",
      "     ----------------------- --------------- 11.6/19.2 MB 14.2 MB/s eta 0:00:01\n",
      "     ------------------------ -------------- 12.1/19.2 MB 15.2 MB/s eta 0:00:01\n",
      "     ------------------------- ------------- 12.7/19.2 MB 14.9 MB/s eta 0:00:01\n",
      "     -------------------------- ------------ 13.3/19.2 MB 14.2 MB/s eta 0:00:01\n",
      "     --------------------------- ----------- 13.6/19.2 MB 15.2 MB/s eta 0:00:01\n",
      "     ---------------------------- ---------- 13.8/19.2 MB 14.9 MB/s eta 0:00:01\n",
      "     ----------------------------- --------- 14.4/19.2 MB 13.9 MB/s eta 0:00:01\n",
      "     ------------------------------ -------- 14.9/19.2 MB 13.6 MB/s eta 0:00:01\n",
      "     ------------------------------- ------- 15.5/19.2 MB 12.8 MB/s eta 0:00:01\n",
      "     -------------------------------- ------ 15.9/19.2 MB 12.8 MB/s eta 0:00:01\n",
      "     -------------------------------- ------ 16.2/19.2 MB 12.6 MB/s eta 0:00:01\n",
      "     --------------------------------- ----- 16.5/19.2 MB 12.1 MB/s eta 0:00:01\n",
      "     ---------------------------------- ---- 16.8/19.2 MB 11.9 MB/s eta 0:00:01\n",
      "     ----------------------------------- --- 17.2/19.2 MB 11.7 MB/s eta 0:00:01\n",
      "     ----------------------------------- --- 17.6/19.2 MB 11.5 MB/s eta 0:00:01\n",
      "     ------------------------------------ -- 18.1/19.2 MB 11.1 MB/s eta 0:00:01\n",
      "     ------------------------------------- - 18.4/19.2 MB 11.1 MB/s eta 0:00:01\n",
      "     ------------------------------------- - 18.6/19.2 MB 10.7 MB/s eta 0:00:01\n",
      "     --------------------------------------  19.0/19.2 MB 10.6 MB/s eta 0:00:01\n",
      "     --------------------------------------  19.2/19.2 MB 10.4 MB/s eta 0:00:01\n",
      "     --------------------------------------  19.2/19.2 MB 10.4 MB/s eta 0:00:01\n",
      "     --------------------------------------  19.2/19.2 MB 10.4 MB/s eta 0:00:01\n",
      "     ---------------------------------------- 19.2/19.2 MB 9.1 MB/s eta 0:00:00\n",
      "Requirement already satisfied: python-multipart in c:\\users\\ph735wk\\myenv\\lib\\site-packages (from unstructured-inference==0.7.21->unstructured[pdf]) (0.0.6)\n",
      "Requirement already satisfied: huggingface-hub in c:\\users\\ph735wk\\myenv\\lib\\site-packages (from unstructured-inference==0.7.21->unstructured[pdf]) (0.19.4)\n",
      "Collecting opencv-python!=4.7.0.68 (from unstructured-inference==0.7.21->unstructured[pdf])\n",
      "  Downloading opencv_python-4.9.0.80-cp37-abi3-win_amd64.whl.metadata (20 kB)\n",
      "Collecting onnxruntime<1.16 (from unstructured-inference==0.7.21->unstructured[pdf])\n",
      "  Downloading onnxruntime-1.15.1-cp311-cp311-win_amd64.whl.metadata (4.1 kB)\n",
      "Requirement already satisfied: transformers>=4.25.1 in c:\\users\\ph735wk\\myenv\\lib\\site-packages (from unstructured-inference==0.7.21->unstructured[pdf]) (4.35.2)\n",
      "Requirement already satisfied: markdown in c:\\users\\ph735wk\\myenv\\lib\\site-packages (from unstructured[all-docs]) (3.5.1)\n",
      "Collecting python-pptx<=0.6.23 (from unstructured[all-docs])\n",
      "  Downloading python_pptx-0.6.23-py3-none-any.whl.metadata (18 kB)\n",
      "Collecting pypandoc (from unstructured[all-docs])\n",
      "  Downloading pypandoc-1.12-py3-none-any.whl.metadata (16 kB)\n",
      "Requirement already satisfied: networkx in c:\\users\\ph735wk\\myenv\\lib\\site-packages (from unstructured[all-docs]) (3.2.1)\n",
      "Collecting msg-parser (from unstructured[all-docs])\n",
      "  Downloading msg_parser-1.2.0-py2.py3-none-any.whl (101 kB)\n",
      "     ---------------------------------------- 0.0/101.8 kB ? eta -:--:--\n",
      "     ----------------------------------- --- 92.2/101.8 kB 5.1 MB/s eta 0:00:01\n",
      "     ------------------------------------ 101.8/101.8 kB 974.4 kB/s eta 0:00:00\n",
      "Collecting xlrd (from unstructured[all-docs])\n",
      "  Downloading xlrd-2.0.1-py2.py3-none-any.whl (96 kB)\n",
      "     ---------------------------------------- 0.0/96.5 kB ? eta -:--:--\n",
      "     -------------------------------------- - 92.2/96.5 kB ? eta -:--:--\n",
      "     -------------------------------------- - 92.2/96.5 kB ? eta -:--:--\n",
      "     -------------------------------------- 96.5/96.5 kB 918.0 kB/s eta 0:00:00\n",
      "Collecting python-docx (from unstructured[all-docs])\n",
      "  Downloading python_docx-1.1.0-py3-none-any.whl.metadata (2.0 kB)\n",
      "Requirement already satisfied: openpyxl in c:\\users\\ph735wk\\myenv\\lib\\site-packages (from unstructured[all-docs]) (3.1.2)\n",
      "Requirement already satisfied: pandas in c:\\users\\ph735wk\\myenv\\lib\\site-packages (from unstructured[all-docs]) (2.0.3)\n",
      "Requirement already satisfied: Pillow>=3.3.2 in c:\\users\\ph735wk\\myenv\\lib\\site-packages (from python-pptx<=0.6.23->unstructured[all-docs]) (10.1.0)\n",
      "Collecting XlsxWriter>=0.5.7 (from python-pptx<=0.6.23->unstructured[all-docs])\n",
      "  Downloading XlsxWriter-3.1.9-py3-none-any.whl.metadata (2.6 kB)\n",
      "Requirement already satisfied: packaging>=21.3 in c:\\users\\ph735wk\\myenv\\lib\\site-packages (from unstructured.pytesseract>=0.3.12->unstructured[pdf]) (23.2)\n",
      "Requirement already satisfied: soupsieve>1.2 in c:\\users\\ph735wk\\myenv\\lib\\site-packages (from beautifulsoup4->unstructured) (2.5)\n",
      "Requirement already satisfied: marshmallow<4.0.0,>=3.18.0 in c:\\users\\ph735wk\\myenv\\lib\\site-packages (from dataclasses-json->unstructured) (3.20.1)\n",
      "Requirement already satisfied: typing-inspect<1,>=0.4.0 in c:\\users\\ph735wk\\myenv\\lib\\site-packages (from dataclasses-json->unstructured) (0.9.0)\n",
      "Requirement already satisfied: six in c:\\users\\ph735wk\\myenv\\lib\\site-packages (from langdetect->unstructured) (1.16.0)\n",
      "Collecting olefile>=0.46 (from msg-parser->unstructured[all-docs])\n",
      "  Downloading olefile-0.47-py2.py3-none-any.whl.metadata (9.7 kB)\n",
      "Requirement already satisfied: click in c:\\users\\ph735wk\\myenv\\lib\\site-packages (from nltk->unstructured) (8.1.7)\n",
      "Requirement already satisfied: joblib in c:\\users\\ph735wk\\myenv\\lib\\site-packages (from nltk->unstructured) (1.1.1)\n",
      "Requirement already satisfied: regex>=2021.8.3 in c:\\users\\ph735wk\\myenv\\lib\\site-packages (from nltk->unstructured) (2023.10.3)\n",
      "Requirement already satisfied: tqdm in c:\\users\\ph735wk\\myenv\\lib\\site-packages (from nltk->unstructured) (4.66.1)\n",
      "Requirement already satisfied: protobuf>=3.20.2 in c:\\users\\ph735wk\\myenv\\lib\\site-packages (from onnx->unstructured[pdf]) (4.21.12)\n",
      "Requirement already satisfied: et-xmlfile in c:\\users\\ph735wk\\myenv\\lib\\site-packages (from openpyxl->unstructured[all-docs]) (1.1.0)\n",
      "Requirement already satisfied: python-dateutil>=2.8.2 in c:\\users\\ph735wk\\myenv\\lib\\site-packages (from pandas->unstructured[all-docs]) (2.8.2)\n",
      "Requirement already satisfied: pytz>=2020.1 in c:\\users\\ph735wk\\myenv\\lib\\site-packages (from pandas->unstructured[all-docs]) (2023.3.post1)\n",
      "Requirement already satisfied: tzdata>=2022.1 in c:\\users\\ph735wk\\myenv\\lib\\site-packages (from pandas->unstructured[all-docs]) (2023.3)\n",
      "Requirement already satisfied: charset-normalizer>=2.0.0 in c:\\users\\ph735wk\\myenv\\lib\\site-packages (from pdfminer.six->unstructured[pdf]) (3.3.2)\n",
      "Requirement already satisfied: cryptography>=36.0.0 in c:\\users\\ph735wk\\myenv\\lib\\site-packages (from pdfminer.six->unstructured[pdf]) (41.0.7)\n",
      "Requirement already satisfied: Deprecated in c:\\users\\ph735wk\\myenv\\lib\\site-packages (from pikepdf->unstructured[pdf]) (1.2.14)\n",
      "Requirement already satisfied: idna<4,>=2.5 in c:\\users\\ph735wk\\myenv\\lib\\site-packages (from requests->unstructured) (2.10)\n",
      "Requirement already satisfied: urllib3<3,>=1.21.1 in c:\\users\\ph735wk\\myenv\\lib\\site-packages (from requests->unstructured) (2.1.0)\n",
      "Requirement already satisfied: certifi>=2017.4.17 in c:\\users\\ph735wk\\myenv\\lib\\site-packages (from requests->unstructured) (2023.11.17)\n",
      "Collecting dataclasses-json (from unstructured)\n",
      "  Downloading dataclasses_json-0.6.3-py3-none-any.whl.metadata (25 kB)\n",
      "Collecting idna<4,>=2.5 (from requests->unstructured)\n",
      "  Using cached idna-3.6-py3-none-any.whl.metadata (9.9 kB)\n",
      "Collecting jsonpath-python>=1.0.6 (from unstructured-client->unstructured)\n",
      "  Downloading jsonpath_python-1.0.6-py3-none-any.whl (7.6 kB)\n",
      "Requirement already satisfied: mypy-extensions>=1.0.0 in c:\\users\\ph735wk\\myenv\\lib\\site-packages (from unstructured-client->unstructured) (1.0.0)\n",
      "Requirement already satisfied: cffi>=1.12 in c:\\users\\ph735wk\\myenv\\lib\\site-packages (from cryptography>=36.0.0->pdfminer.six->unstructured[pdf]) (1.16.0)\n",
      "Requirement already satisfied: coloredlogs in c:\\users\\ph735wk\\myenv\\lib\\site-packages (from onnxruntime<1.16->unstructured-inference==0.7.21->unstructured[pdf]) (15.0.1)\n",
      "Requirement already satisfied: flatbuffers in c:\\users\\ph735wk\\myenv\\lib\\site-packages (from onnxruntime<1.16->unstructured-inference==0.7.21->unstructured[pdf]) (23.5.26)\n",
      "Requirement already satisfied: sympy in c:\\users\\ph735wk\\myenv\\lib\\site-packages (from onnxruntime<1.16->unstructured-inference==0.7.21->unstructured[pdf]) (1.12)\n",
      "Requirement already satisfied: filelock in c:\\users\\ph735wk\\myenv\\lib\\site-packages (from transformers>=4.25.1->unstructured-inference==0.7.21->unstructured[pdf]) (3.13.1)\n",
      "Requirement already satisfied: pyyaml>=5.1 in c:\\users\\ph735wk\\myenv\\lib\\site-packages (from transformers>=4.25.1->unstructured-inference==0.7.21->unstructured[pdf]) (6.0.1)\n",
      "Requirement already satisfied: tokenizers<0.19,>=0.14 in c:\\users\\ph735wk\\myenv\\lib\\site-packages (from transformers>=4.25.1->unstructured-inference==0.7.21->unstructured[pdf]) (0.15.0)\n",
      "Requirement already satisfied: safetensors>=0.3.1 in c:\\users\\ph735wk\\myenv\\lib\\site-packages (from transformers>=4.25.1->unstructured-inference==0.7.21->unstructured[pdf]) (0.4.0)\n",
      "Requirement already satisfied: fsspec>=2023.5.0 in c:\\users\\ph735wk\\myenv\\lib\\site-packages (from huggingface-hub->unstructured-inference==0.7.21->unstructured[pdf]) (2023.10.0)\n",
      "Requirement already satisfied: colorama in c:\\users\\ph735wk\\myenv\\lib\\site-packages (from tqdm->nltk->unstructured) (0.4.6)\n",
      "Requirement already satisfied: scipy in c:\\users\\ph735wk\\myenv\\lib\\site-packages (from layoutparser[layoutmodels,tesseract]->unstructured-inference==0.7.21->unstructured[pdf]) (1.11.4)\n",
      "Collecting iopath (from layoutparser[layoutmodels,tesseract]->unstructured-inference==0.7.21->unstructured[pdf])\n",
      "  Using cached iopath-0.1.10-py3-none-any.whl\n",
      "Requirement already satisfied: pdfplumber in c:\\users\\ph735wk\\myenv\\lib\\site-packages (from layoutparser[layoutmodels,tesseract]->unstructured-inference==0.7.21->unstructured[pdf]) (0.10.3)\n",
      "Requirement already satisfied: torch in c:\\users\\ph735wk\\myenv\\lib\\site-packages (from layoutparser[layoutmodels,tesseract]->unstructured-inference==0.7.21->unstructured[pdf]) (2.1.1)\n",
      "Requirement already satisfied: torchvision in c:\\users\\ph735wk\\myenv\\lib\\site-packages (from layoutparser[layoutmodels,tesseract]->unstructured-inference==0.7.21->unstructured[pdf]) (0.16.1)\n",
      "Collecting effdet (from layoutparser[layoutmodels,tesseract]->unstructured-inference==0.7.21->unstructured[pdf])\n",
      "  Downloading effdet-0.4.1-py3-none-any.whl.metadata (33 kB)\n",
      "Collecting pytesseract (from layoutparser[layoutmodels,tesseract]->unstructured-inference==0.7.21->unstructured[pdf])\n",
      "  Downloading pytesseract-0.3.10-py3-none-any.whl (14 kB)\n",
      "Requirement already satisfied: pycparser in c:\\users\\ph735wk\\myenv\\lib\\site-packages (from cffi>=1.12->cryptography>=36.0.0->pdfminer.six->unstructured[pdf]) (2.21)\n",
      "Requirement already satisfied: humanfriendly>=9.1 in c:\\users\\ph735wk\\myenv\\lib\\site-packages (from coloredlogs->onnxruntime<1.16->unstructured-inference==0.7.21->unstructured[pdf]) (10.0)\n",
      "Collecting timm>=0.9.2 (from effdet->layoutparser[layoutmodels,tesseract]->unstructured-inference==0.7.21->unstructured[pdf])\n",
      "  Downloading timm-0.9.12-py3-none-any.whl.metadata (60 kB)\n",
      "     ---------------------------------------- 0.0/60.6 kB ? eta -:--:--\n",
      "     --------------------------------- ------ 51.2/60.6 kB ? eta -:--:--\n",
      "     -------------------------------------- 60.6/60.6 kB 812.6 kB/s eta 0:00:00\n",
      "Collecting pycocotools>=2.0.2 (from effdet->layoutparser[layoutmodels,tesseract]->unstructured-inference==0.7.21->unstructured[pdf])\n",
      "  Downloading pycocotools-2.0.7-cp311-cp311-win_amd64.whl.metadata (1.1 kB)\n",
      "Collecting omegaconf>=2.0 (from effdet->layoutparser[layoutmodels,tesseract]->unstructured-inference==0.7.21->unstructured[pdf])\n",
      "  Downloading omegaconf-2.3.0-py3-none-any.whl (79 kB)\n",
      "     ---------------------------------------- 0.0/79.5 kB ? eta -:--:--\n",
      "     ------------------------------------ --- 71.7/79.5 kB ? eta -:--:--\n",
      "     ---------------------------------------- 79.5/79.5 kB 1.1 MB/s eta 0:00:00\n",
      "Requirement already satisfied: jinja2 in c:\\users\\ph735wk\\myenv\\lib\\site-packages (from torch->layoutparser[layoutmodels,tesseract]->unstructured-inference==0.7.21->unstructured[pdf]) (3.1.2)\n",
      "Requirement already satisfied: portalocker in c:\\users\\ph735wk\\myenv\\lib\\site-packages (from iopath->layoutparser[layoutmodels,tesseract]->unstructured-inference==0.7.21->unstructured[pdf]) (2.8.2)\n",
      "Requirement already satisfied: pypdfium2>=4.18.0 in c:\\users\\ph735wk\\myenv\\lib\\site-packages (from pdfplumber->layoutparser[layoutmodels,tesseract]->unstructured-inference==0.7.21->unstructured[pdf]) (4.24.0)\n",
      "Requirement already satisfied: mpmath>=0.19 in c:\\users\\ph735wk\\myenv\\lib\\site-packages (from sympy->onnxruntime<1.16->unstructured-inference==0.7.21->unstructured[pdf]) (1.3.0)\n",
      "Requirement already satisfied: pyreadline3 in c:\\users\\ph735wk\\myenv\\lib\\site-packages (from humanfriendly>=9.1->coloredlogs->onnxruntime<1.16->unstructured-inference==0.7.21->unstructured[pdf]) (3.4.1)\n",
      "Collecting antlr4-python3-runtime==4.9.* (from omegaconf>=2.0->effdet->layoutparser[layoutmodels,tesseract]->unstructured-inference==0.7.21->unstructured[pdf])\n",
      "  Using cached antlr4_python3_runtime-4.9.3-py3-none-any.whl\n",
      "Requirement already satisfied: matplotlib>=2.1.0 in c:\\users\\ph735wk\\myenv\\lib\\site-packages (from pycocotools>=2.0.2->effdet->layoutparser[layoutmodels,tesseract]->unstructured-inference==0.7.21->unstructured[pdf]) (3.7.3)\n",
      "Requirement already satisfied: MarkupSafe>=2.0 in c:\\users\\ph735wk\\myenv\\lib\\site-packages (from jinja2->torch->layoutparser[layoutmodels,tesseract]->unstructured-inference==0.7.21->unstructured[pdf]) (2.1.3)\n",
      "Requirement already satisfied: pywin32>=226 in c:\\users\\ph735wk\\myenv\\lib\\site-packages (from portalocker->iopath->layoutparser[layoutmodels,tesseract]->unstructured-inference==0.7.21->unstructured[pdf]) (306)\n",
      "Requirement already satisfied: contourpy>=1.0.1 in c:\\users\\ph735wk\\myenv\\lib\\site-packages (from matplotlib>=2.1.0->pycocotools>=2.0.2->effdet->layoutparser[layoutmodels,tesseract]->unstructured-inference==0.7.21->unstructured[pdf]) (1.2.0)\n",
      "Requirement already satisfied: cycler>=0.10 in c:\\users\\ph735wk\\myenv\\lib\\site-packages (from matplotlib>=2.1.0->pycocotools>=2.0.2->effdet->layoutparser[layoutmodels,tesseract]->unstructured-inference==0.7.21->unstructured[pdf]) (0.12.1)\n",
      "Requirement already satisfied: fonttools>=4.22.0 in c:\\users\\ph735wk\\myenv\\lib\\site-packages (from matplotlib>=2.1.0->pycocotools>=2.0.2->effdet->layoutparser[layoutmodels,tesseract]->unstructured-inference==0.7.21->unstructured[pdf]) (4.45.0)\n",
      "Requirement already satisfied: kiwisolver>=1.0.1 in c:\\users\\ph735wk\\myenv\\lib\\site-packages (from matplotlib>=2.1.0->pycocotools>=2.0.2->effdet->layoutparser[layoutmodels,tesseract]->unstructured-inference==0.7.21->unstructured[pdf]) (1.4.5)\n",
      "Requirement already satisfied: pyparsing>=2.3.1 in c:\\users\\ph735wk\\myenv\\lib\\site-packages (from matplotlib>=2.1.0->pycocotools>=2.0.2->effdet->layoutparser[layoutmodels,tesseract]->unstructured-inference==0.7.21->unstructured[pdf]) (3.1.1)\n",
      "Downloading unstructured-0.12.0-py3-none-any.whl (1.8 MB)\n",
      "   ---------------------------------------- 0.0/1.8 MB ? eta -:--:--\n",
      "   ----------- ---------------------------- 0.5/1.8 MB 16.0 MB/s eta 0:00:01\n",
      "   ---------------------- ----------------- 1.0/1.8 MB 12.9 MB/s eta 0:00:01\n",
      "   ------------------------------ --------- 1.4/1.8 MB 12.3 MB/s eta 0:00:01\n",
      "   ---------------------------------------  1.8/1.8 MB 11.2 MB/s eta 0:00:01\n",
      "   ---------------------------------------  1.8/1.8 MB 11.2 MB/s eta 0:00:01\n",
      "   ---------------------------------------- 1.8/1.8 MB 7.5 MB/s eta 0:00:00\n",
      "Downloading unstructured_inference-0.7.21-py3-none-any.whl (60 kB)\n",
      "   ---------------------------------------- 0.0/60.0 kB ? eta -:--:--\n",
      "   ---------------------------------- ----- 51.2/60.0 kB ? eta -:--:--\n",
      "   ---------------------------------------- 60.0/60.0 kB 637.9 kB/s eta 0:00:00\n",
      "Downloading python_pptx-0.6.23-py3-none-any.whl (471 kB)\n",
      "   ---------------------------------------- 0.0/471.6 kB ? eta -:--:--\n",
      "   ------------------------------------- - 450.6/471.6 kB 14.2 MB/s eta 0:00:01\n",
      "   --------------------------------------  471.0/471.6 kB 14.9 MB/s eta 0:00:01\n",
      "   ---------------------------------------- 471.6/471.6 kB 4.2 MB/s eta 0:00:00\n",
      "Downloading unstructured.pytesseract-0.3.12-py3-none-any.whl (14 kB)\n",
      "Downloading emoji-2.10.0-py2.py3-none-any.whl (457 kB)\n",
      "   ---------------------------------------- 0.0/457.9 kB ? eta -:--:--\n",
      "   ---------------------------------- ---- 409.6/457.9 kB 12.9 MB/s eta 0:00:01\n",
      "   --------------------------------------  450.6/457.9 kB 14.2 MB/s eta 0:00:01\n",
      "   ---------------------------------------- 457.9/457.9 kB 4.1 MB/s eta 0:00:00\n",
      "Downloading onnx-1.15.0-cp311-cp311-win_amd64.whl (14.3 MB)\n",
      "   ---------------------------------------- 0.0/14.3 MB ? eta -:--:--\n",
      "   - -------------------------------------- 0.5/14.3 MB 14.2 MB/s eta 0:00:01\n",
      "   -- ------------------------------------- 0.8/14.3 MB 13.2 MB/s eta 0:00:02\n",
      "   --- ------------------------------------ 1.2/14.3 MB 11.4 MB/s eta 0:00:02\n",
      "   ---- ----------------------------------- 1.7/14.3 MB 11.0 MB/s eta 0:00:02\n",
      "   ----- ---------------------------------- 2.1/14.3 MB 10.2 MB/s eta 0:00:02\n",
      "   ------- -------------------------------- 2.7/14.3 MB 11.4 MB/s eta 0:00:02\n",
      "   -------- ------------------------------- 3.2/14.3 MB 11.3 MB/s eta 0:00:01\n",
      "   ---------- ----------------------------- 3.7/14.3 MB 11.3 MB/s eta 0:00:01\n",
      "   ----------- ---------------------------- 4.2/14.3 MB 11.2 MB/s eta 0:00:01\n",
      "   ------------- -------------------------- 4.8/14.3 MB 11.3 MB/s eta 0:00:01\n",
      "   -------------- ------------------------- 5.3/14.3 MB 11.2 MB/s eta 0:00:01\n",
      "   ---------------- ----------------------- 5.8/14.3 MB 11.6 MB/s eta 0:00:01\n",
      "   ----------------- ---------------------- 6.4/14.3 MB 11.7 MB/s eta 0:00:01\n",
      "   ------------------- -------------------- 7.0/14.3 MB 11.8 MB/s eta 0:00:01\n",
      "   -------------------- ------------------- 7.4/14.3 MB 11.6 MB/s eta 0:00:01\n",
      "   ---------------------- ----------------- 8.0/14.3 MB 12.0 MB/s eta 0:00:01\n",
      "   ----------------------- ---------------- 8.5/14.3 MB 11.9 MB/s eta 0:00:01\n",
      "   ------------------------- -------------- 9.0/14.3 MB 12.0 MB/s eta 0:00:01\n",
      "   --------------------------- ------------ 9.8/14.3 MB 12.0 MB/s eta 0:00:01\n",
      "   ---------------------------- ----------- 10.2/14.3 MB 12.1 MB/s eta 0:00:01\n",
      "   ------------------------------ --------- 10.8/14.3 MB 12.1 MB/s eta 0:00:01\n",
      "   -------------------------------- ------- 11.5/14.3 MB 12.3 MB/s eta 0:00:01\n",
      "   --------------------------------- ------ 12.1/14.3 MB 12.6 MB/s eta 0:00:01\n",
      "   ----------------------------------- ---- 12.7/14.3 MB 12.8 MB/s eta 0:00:01\n",
      "   ------------------------------------- -- 13.3/14.3 MB 12.8 MB/s eta 0:00:01\n",
      "   ---------------------------------------  14.1/14.3 MB 13.1 MB/s eta 0:00:01\n",
      "   ---------------------------------------  14.3/14.3 MB 13.1 MB/s eta 0:00:01\n",
      "   ---------------------------------------  14.3/14.3 MB 13.1 MB/s eta 0:00:01\n",
      "   ---------------------------------------  14.3/14.3 MB 13.1 MB/s eta 0:00:01\n",
      "   ---------------------------------------- 14.3/14.3 MB 11.1 MB/s eta 0:00:00\n",
      "Downloading pdf2image-1.17.0-py3-none-any.whl (11 kB)\n",
      "Downloading pikepdf-8.11.2-cp311-cp311-win_amd64.whl (3.5 MB)\n",
      "   ---------------------------------------- 0.0/3.5 MB ? eta -:--:--\n",
      "   ------- -------------------------------- 0.6/3.5 MB 12.9 MB/s eta 0:00:01\n",
      "   --------------- ------------------------ 1.3/3.5 MB 14.1 MB/s eta 0:00:01\n",
      "   ---------------------- ----------------- 2.0/3.5 MB 15.6 MB/s eta 0:00:01\n",
      "   ------------------------------- -------- 2.8/3.5 MB 16.0 MB/s eta 0:00:01\n",
      "   ------------------------------------- -- 3.2/3.5 MB 14.6 MB/s eta 0:00:01\n",
      "   ---------------------------------------  3.4/3.5 MB 14.7 MB/s eta 0:00:01\n",
      "   ---------------------------------------  3.4/3.5 MB 14.7 MB/s eta 0:00:01\n",
      "   ---------------------------------------- 3.5/3.5 MB 10.0 MB/s eta 0:00:00\n",
      "Downloading pypandoc-1.12-py3-none-any.whl (20 kB)\n",
      "Downloading pypdf-4.0.0-py3-none-any.whl (283 kB)\n",
      "Note: you may need to restart the kernel to use updated packages.\n"
     ]
    },
    {
     "name": "stderr",
     "output_type": "stream",
     "text": [
      "  WARNING: Failed to remove contents in a temporary directory 'C:\\Users\\PH735WK\\myenv\\Lib\\site-packages\\~nnxruntime'.\n",
      "  You can safely remove it manually.\n",
      "ERROR: pip's dependency resolver does not currently take into account all the packages that are installed. This behaviour is the source of the following dependency conflicts.\n",
      "chainlit 0.7.700 requires dataclasses_json<0.6.0,>=0.5.7, but you have dataclasses-json 0.6.3 which is incompatible.\n",
      "langchain-openai 0.0.3 requires openai<2.0.0,>=1.6.1, but you have openai 0.28.0 which is incompatible.\n",
      "ydata-profiling 4.6.2 requires numpy<1.26,>=1.16.0, but you have numpy 1.26.2 which is incompatible.\n",
      "ydata-profiling 4.6.2 requires visions[type_image_path]==0.7.5, but you have visions 0.7.4 which is incompatible.\n",
      "\n",
      "[notice] A new release of pip is available: 23.3.1 -> 23.3.2\n",
      "[notice] To update, run: python.exe -m pip install --upgrade pip\n"
     ]
    },
    {
     "name": "stdout",
     "output_type": "stream",
     "text": [
      "   ---------------------------------------- 0.0/283.9 kB ? eta -:--:--\n",
      "   -------------------------------------- - 276.5/283.9 kB ? eta -:--:--\n",
      "   -------------------------------------- - 276.5/283.9 kB ? eta -:--:--\n",
      "   ---------------------------------------- 283.9/283.9 kB 3.5 MB/s eta 0:00:00\n",
      "Downloading python_docx-1.1.0-py3-none-any.whl (239 kB)\n",
      "   ---------------------------------------- 0.0/239.6 kB ? eta -:--:--\n",
      "   --------------------------------------  235.5/239.6 kB 15.0 MB/s eta 0:00:01\n",
      "   --------------------------------------  235.5/239.6 kB 15.0 MB/s eta 0:00:01\n",
      "   --------------------------------------  235.5/239.6 kB 15.0 MB/s eta 0:00:01\n",
      "   --------------------------------------  235.5/239.6 kB 15.0 MB/s eta 0:00:01\n",
      "   ---------------------------------------- 239.6/239.6 kB 1.0 MB/s eta 0:00:00\n",
      "Downloading python_iso639-2024.1.2-py3-none-any.whl (274 kB)\n",
      "   ---------------------------------------- 0.0/274.7 kB ? eta -:--:--\n",
      "   -------------------------------------- - 266.2/274.7 kB ? eta -:--:--\n",
      "   -------------------------------------- - 266.2/274.7 kB ? eta -:--:--\n",
      "   ---------------------------------------- 274.7/274.7 kB 2.8 MB/s eta 0:00:00\n",
      "Downloading rapidfuzz-3.6.1-cp311-cp311-win_amd64.whl (1.6 MB)\n",
      "   ---------------------------------------- 0.0/1.6 MB ? eta -:--:--\n",
      "   ---------------- ----------------------- 0.7/1.6 MB 20.8 MB/s eta 0:00:01\n",
      "   -------------------------------- ------- 1.3/1.6 MB 16.8 MB/s eta 0:00:01\n",
      "   ---------------------------------------  1.6/1.6 MB 14.8 MB/s eta 0:00:01\n",
      "   ---------------------------------------  1.6/1.6 MB 14.8 MB/s eta 0:00:01\n",
      "   ---------------------------------------- 1.6/1.6 MB 8.7 MB/s eta 0:00:00\n",
      "Downloading unstructured_client-0.15.2-py3-none-any.whl (20 kB)\n",
      "Downloading dataclasses_json-0.6.3-py3-none-any.whl (28 kB)\n",
      "Using cached idna-3.6-py3-none-any.whl (61 kB)\n",
      "Downloading olefile-0.47-py2.py3-none-any.whl (114 kB)\n",
      "   ---------------------------------------- 0.0/114.6 kB ? eta -:--:--\n",
      "   ---------------------------------------  112.6/114.6 kB ? eta -:--:--\n",
      "   ---------------------------------------- 114.6/114.6 kB 1.3 MB/s eta 0:00:00\n",
      "Downloading onnxruntime-1.15.1-cp311-cp311-win_amd64.whl (6.7 MB)\n",
      "   ---------------------------------------- 0.0/6.7 MB ? eta -:--:--\n",
      "   ---- ----------------------------------- 0.8/6.7 MB 16.6 MB/s eta 0:00:01\n",
      "   --------- ------------------------------ 1.5/6.7 MB 16.2 MB/s eta 0:00:01\n",
      "   ------------- -------------------------- 2.2/6.7 MB 15.7 MB/s eta 0:00:01\n",
      "   ---------------- ----------------------- 2.8/6.7 MB 16.5 MB/s eta 0:00:01\n",
      "   -------------------- ------------------- 3.4/6.7 MB 15.5 MB/s eta 0:00:01\n",
      "   ----------------------- ---------------- 4.0/6.7 MB 16.1 MB/s eta 0:00:01\n",
      "   --------------------------- ------------ 4.6/6.7 MB 15.4 MB/s eta 0:00:01\n",
      "   ------------------------------ --------- 5.2/6.7 MB 15.7 MB/s eta 0:00:01\n",
      "   --------------------------------- ------ 5.7/6.7 MB 15.2 MB/s eta 0:00:01\n",
      "   ------------------------------------- -- 6.3/6.7 MB 14.9 MB/s eta 0:00:01\n",
      "   ---------------------------------------  6.7/6.7 MB 14.9 MB/s eta 0:00:01\n",
      "   ---------------------------------------  6.7/6.7 MB 14.9 MB/s eta 0:00:01\n",
      "   ---------------------------------------  6.7/6.7 MB 14.9 MB/s eta 0:00:01\n",
      "   ---------------------------------------- 6.7/6.7 MB 12.0 MB/s eta 0:00:00\n",
      "Downloading opencv_python-4.9.0.80-cp37-abi3-win_amd64.whl (38.6 MB)\n",
      "   ---------------------------------------- 0.0/38.6 MB ? eta -:--:--\n",
      "    --------------------------------------- 0.6/38.6 MB 19.5 MB/s eta 0:00:02\n",
      "   - -------------------------------------- 1.3/38.6 MB 17.1 MB/s eta 0:00:03\n",
      "   - -------------------------------------- 1.9/38.6 MB 17.6 MB/s eta 0:00:03\n",
      "   -- ------------------------------------- 2.6/38.6 MB 16.7 MB/s eta 0:00:03\n",
      "   --- ------------------------------------ 3.1/38.6 MB 15.4 MB/s eta 0:00:03\n",
      "   --- ------------------------------------ 3.6/38.6 MB 15.5 MB/s eta 0:00:03\n",
      "   ---- ----------------------------------- 4.4/38.6 MB 15.5 MB/s eta 0:00:03\n",
      "   ----- ---------------------------------- 4.9/38.6 MB 15.0 MB/s eta 0:00:03\n",
      "   ----- ---------------------------------- 5.4/38.6 MB 15.1 MB/s eta 0:00:03\n",
      "   ------ --------------------------------- 6.1/38.6 MB 14.4 MB/s eta 0:00:03\n",
      "   ------- -------------------------------- 6.8/38.6 MB 14.5 MB/s eta 0:00:03\n",
      "   ------- -------------------------------- 7.4/38.6 MB 14.8 MB/s eta 0:00:03\n",
      "   -------- ------------------------------- 8.0/38.6 MB 14.7 MB/s eta 0:00:03\n",
      "   -------- ------------------------------- 8.6/38.6 MB 14.5 MB/s eta 0:00:03\n",
      "   --------- ------------------------------ 9.1/38.6 MB 14.6 MB/s eta 0:00:03\n",
      "   ---------- ----------------------------- 9.7/38.6 MB 14.4 MB/s eta 0:00:03\n",
      "   ---------- ----------------------------- 10.3/38.6 MB 14.6 MB/s eta 0:00:02\n",
      "   ----------- ---------------------------- 11.0/38.6 MB 14.2 MB/s eta 0:00:02\n",
      "   ----------- ---------------------------- 11.6/38.6 MB 14.2 MB/s eta 0:00:02\n",
      "   ------------ --------------------------- 12.2/38.6 MB 14.2 MB/s eta 0:00:02\n",
      "   ------------- -------------------------- 12.7/38.6 MB 14.2 MB/s eta 0:00:02\n",
      "   ------------- -------------------------- 13.2/38.6 MB 14.2 MB/s eta 0:00:02\n",
      "   -------------- ------------------------- 13.8/38.6 MB 13.9 MB/s eta 0:00:02\n",
      "   --------------- ------------------------ 14.5/38.6 MB 13.9 MB/s eta 0:00:02\n",
      "   --------------- ------------------------ 15.1/38.6 MB 14.2 MB/s eta 0:00:02\n",
      "   ---------------- ----------------------- 15.7/38.6 MB 14.2 MB/s eta 0:00:02\n",
      "   ---------------- ----------------------- 16.3/38.6 MB 13.9 MB/s eta 0:00:02\n",
      "   ----------------- ---------------------- 16.8/38.6 MB 14.2 MB/s eta 0:00:02\n",
      "   ------------------ --------------------- 17.4/38.6 MB 14.2 MB/s eta 0:00:02\n",
      "   ------------------ --------------------- 17.6/38.6 MB 13.4 MB/s eta 0:00:02\n",
      "   ------------------ --------------------- 18.0/38.6 MB 13.1 MB/s eta 0:00:02\n",
      "   ------------------- -------------------- 18.5/38.6 MB 13.1 MB/s eta 0:00:02\n",
      "   ------------------- -------------------- 19.3/38.6 MB 13.1 MB/s eta 0:00:02\n",
      "   -------------------- ------------------- 19.9/38.6 MB 13.4 MB/s eta 0:00:02\n",
      "   --------------------- ------------------ 20.6/38.6 MB 13.4 MB/s eta 0:00:02\n",
      "   --------------------- ------------------ 21.1/38.6 MB 13.1 MB/s eta 0:00:02\n",
      "   ---------------------- ----------------- 21.6/38.6 MB 13.4 MB/s eta 0:00:02\n",
      "   ---------------------- ----------------- 22.2/38.6 MB 13.1 MB/s eta 0:00:02\n",
      "   ----------------------- ---------------- 22.5/38.6 MB 12.8 MB/s eta 0:00:02\n",
      "   ----------------------- ---------------- 23.0/38.6 MB 12.6 MB/s eta 0:00:02\n",
      "   ------------------------ --------------- 23.8/38.6 MB 12.8 MB/s eta 0:00:02\n",
      "   ------------------------- -------------- 24.3/38.6 MB 12.8 MB/s eta 0:00:02\n",
      "   ------------------------- -------------- 24.8/38.6 MB 12.6 MB/s eta 0:00:02\n",
      "   -------------------------- ------------- 25.3/38.6 MB 12.3 MB/s eta 0:00:02\n",
      "   -------------------------- ------------- 25.9/38.6 MB 12.6 MB/s eta 0:00:02\n",
      "   --------------------------- ------------ 26.4/38.6 MB 12.6 MB/s eta 0:00:01\n",
      "   ---------------------------- ----------- 27.1/38.6 MB 12.3 MB/s eta 0:00:01\n",
      "   ---------------------------- ----------- 27.6/38.6 MB 12.4 MB/s eta 0:00:01\n",
      "   ----------------------------- ---------- 28.2/38.6 MB 13.4 MB/s eta 0:00:01\n",
      "   ----------------------------- ---------- 28.8/38.6 MB 13.1 MB/s eta 0:00:01\n",
      "   ------------------------------ --------- 29.3/38.6 MB 13.1 MB/s eta 0:00:01\n",
      "   ------------------------------- -------- 30.0/38.6 MB 13.4 MB/s eta 0:00:01\n",
      "   ------------------------------- -------- 30.6/38.6 MB 13.1 MB/s eta 0:00:01\n",
      "   -------------------------------- ------- 31.2/38.6 MB 13.1 MB/s eta 0:00:01\n",
      "   -------------------------------- ------- 31.7/38.6 MB 13.4 MB/s eta 0:00:01\n",
      "   --------------------------------- ------ 32.3/38.6 MB 13.1 MB/s eta 0:00:01\n",
      "   ---------------------------------- ----- 32.9/38.6 MB 13.6 MB/s eta 0:00:01\n",
      "   ---------------------------------- ----- 33.3/38.6 MB 13.4 MB/s eta 0:00:01\n",
      "   ---------------------------------- ----- 33.5/38.6 MB 12.8 MB/s eta 0:00:01\n",
      "   ---------------------------------- ----- 33.8/38.6 MB 12.6 MB/s eta 0:00:01\n",
      "   ----------------------------------- ---- 34.0/38.6 MB 12.1 MB/s eta 0:00:01\n",
      "   ----------------------------------- ---- 34.2/38.6 MB 11.9 MB/s eta 0:00:01\n",
      "   ----------------------------------- ---- 34.6/38.6 MB 11.5 MB/s eta 0:00:01\n",
      "   ------------------------------------ --- 35.3/38.6 MB 11.7 MB/s eta 0:00:01\n",
      "   ------------------------------------- -- 35.8/38.6 MB 11.7 MB/s eta 0:00:01\n",
      "   ------------------------------------- -- 36.3/38.6 MB 11.9 MB/s eta 0:00:01\n",
      "   -------------------------------------- - 37.0/38.6 MB 11.9 MB/s eta 0:00:01\n",
      "   -------------------------------------- - 37.6/38.6 MB 11.9 MB/s eta 0:00:01\n",
      "   ---------------------------------------  38.2/38.6 MB 11.9 MB/s eta 0:00:01\n",
      "   ---------------------------------------  38.6/38.6 MB 11.9 MB/s eta 0:00:01\n",
      "   ---------------------------------------  38.6/38.6 MB 11.9 MB/s eta 0:00:01\n",
      "   ---------------------------------------  38.6/38.6 MB 11.9 MB/s eta 0:00:01\n",
      "   ---------------------------------------  38.6/38.6 MB 11.9 MB/s eta 0:00:01\n",
      "   ---------------------------------------- 38.6/38.6 MB 9.6 MB/s eta 0:00:00\n",
      "Downloading XlsxWriter-3.1.9-py3-none-any.whl (154 kB)\n",
      "   ---------------------------------------- 0.0/154.8 kB ? eta -:--:--\n",
      "   ---------------------------------------  153.6/154.8 kB ? eta -:--:--\n",
      "   ---------------------------------------- 154.8/154.8 kB 1.9 MB/s eta 0:00:00\n",
      "Downloading effdet-0.4.1-py3-none-any.whl (112 kB)\n",
      "   ---------------------------------------- 0.0/112.5 kB ? eta -:--:--\n",
      "   ------------------------------------ --- 102.4/112.5 kB ? eta -:--:--\n",
      "   ---------------------------------------- 112.5/112.5 kB 1.6 MB/s eta 0:00:00\n",
      "Downloading pycocotools-2.0.7-cp311-cp311-win_amd64.whl (85 kB)\n",
      "   ---------------------------------------- 0.0/85.8 kB ? eta -:--:--\n",
      "   -------------------------------------- - 81.9/85.8 kB ? eta -:--:--\n",
      "   -------------------------------------- - 81.9/85.8 kB ? eta -:--:--\n",
      "   ---------------------------------------- 85.8/85.8 kB 968.4 kB/s eta 0:00:00\n",
      "Downloading timm-0.9.12-py3-none-any.whl (2.2 MB)\n",
      "   ---------------------------------------- 0.0/2.2 MB ? eta -:--:--\n",
      "   ------------ --------------------------- 0.7/2.2 MB 15.0 MB/s eta 0:00:01\n",
      "   ------------------------ --------------- 1.4/2.2 MB 17.7 MB/s eta 0:00:01\n",
      "   -------------------------------------- - 2.2/2.2 MB 17.3 MB/s eta 0:00:01\n",
      "   ---------------------------------------  2.2/2.2 MB 15.8 MB/s eta 0:00:01\n",
      "   ---------------------------------------  2.2/2.2 MB 15.8 MB/s eta 0:00:01\n",
      "   ---------------------------------------- 2.2/2.2 MB 10.1 MB/s eta 0:00:00\n",
      "Installing collected packages: docx2txt, antlr4-python3-runtime, XlsxWriter, xlrd, unstructured.pytesseract, rapidfuzz, python-magic, python-iso639, python-docx, pytesseract, pypdf, pypandoc, pdf2image, opencv-python, onnx, omegaconf, olefile, jsonpath-python, idna, emoji, python-pptx, pikepdf, msg-parser, iopath, dataclasses-json, unstructured-client, pycocotools, onnxruntime, unstructured, timm, layoutparser, effdet, unstructured-inference\n",
      "  Attempting uninstall: idna\n",
      "    Found existing installation: idna 2.10\n",
      "    Uninstalling idna-2.10:\n",
      "      Successfully uninstalled idna-2.10\n",
      "  Attempting uninstall: dataclasses-json\n",
      "    Found existing installation: dataclasses-json 0.5.14\n",
      "    Uninstalling dataclasses-json-0.5.14:\n",
      "      Successfully uninstalled dataclasses-json-0.5.14\n",
      "  Attempting uninstall: onnxruntime\n",
      "    Found existing installation: onnxruntime 1.16.3\n",
      "    Uninstalling onnxruntime-1.16.3:\n",
      "      Successfully uninstalled onnxruntime-1.16.3\n",
      "Successfully installed XlsxWriter-3.1.9 antlr4-python3-runtime-4.9.3 dataclasses-json-0.6.3 docx2txt-0.8 effdet-0.4.1 emoji-2.10.0 idna-3.6 iopath-0.1.10 jsonpath-python-1.0.6 layoutparser-0.3.4 msg-parser-1.2.0 olefile-0.47 omegaconf-2.3.0 onnx-1.15.0 onnxruntime-1.15.1 opencv-python-4.9.0.80 pdf2image-1.17.0 pikepdf-8.11.2 pycocotools-2.0.7 pypandoc-1.12 pypdf-4.0.0 pytesseract-0.3.10 python-docx-1.1.0 python-iso639-2024.1.2 python-magic-0.4.27 python-pptx-0.6.23 rapidfuzz-3.6.1 timm-0.9.12 unstructured-0.12.0 unstructured-client-0.15.2 unstructured-inference-0.7.21 unstructured.pytesseract-0.3.12 xlrd-2.0.1\n"
     ]
    }
   ],
   "source": [
    "pip install unstructured unstructured[pdf] unstructured[all-docs] docx2txt"
   ]
  },
  {
   "cell_type": "code",
   "execution_count": 51,
   "id": "7291c67b-eca5-403c-8e45-446342f13163",
   "metadata": {},
   "outputs": [
    {
     "name": "stdout",
     "output_type": "stream",
     "text": [
      "load INSTRUCTOR_Transformer\n",
      "max_seq_length  512\n"
     ]
    }
   ],
   "source": [
    "from langchain.text_splitter import RecursiveCharacterTextSplitter\n",
    "\n",
    "text_splitter=RecursiveCharacterTextSplitter(chunk_size=500,chunk_overlap=0)\n",
    "all_splits=text_splitter.split_documents(data)\n",
    "from langchain_community.vectorstores import Chroma\n",
    "from langchain_openai import OpenAIEmbeddings\n",
    "# from langchain_openai import AzureOpenAIEmbeddings\n",
    "# from langchain_community.chat_models.azure_openai import AzureChatOpenAI\n",
    "from langchain.embeddings import HuggingFaceInstructEmbeddings\n",
    "from tqdm.autonotebook import trange\n",
    "# embeddings = AzureOpenAIEmbeddings(\n",
    "#     azure_deployment=\"gpt-35-turbo\",\n",
    "#     openai_api_version=\"2023-07-01-preview\",\n",
    "# )\n",
    "embeddings = HuggingFaceInstructEmbeddings(model_name=\"all-MiniLM-L6-v2\")\n",
    "\n",
    "vectorstore=Chroma.from_documents(documents=all_splits,embedding=embeddings)"
   ]
  },
  {
   "cell_type": "code",
   "execution_count": 50,
   "id": "f48dd632-04c9-472c-8297-19b66c6b71f8",
   "metadata": {},
   "outputs": [
    {
     "name": "stdout",
     "output_type": "stream",
     "text": [
      "Collecting sentence-transformers\n",
      "  Using cached sentence_transformers-2.2.2-py3-none-any.whl\n",
      "Requirement already satisfied: transformers<5.0.0,>=4.6.0 in c:\\users\\ph735wk\\myenv\\lib\\site-packages (from sentence-transformers) (4.35.2)\n",
      "Requirement already satisfied: tqdm in c:\\users\\ph735wk\\myenv\\lib\\site-packages (from sentence-transformers) (4.66.1)\n",
      "Requirement already satisfied: torch>=1.6.0 in c:\\users\\ph735wk\\myenv\\lib\\site-packages (from sentence-transformers) (2.1.1)\n",
      "Requirement already satisfied: torchvision in c:\\users\\ph735wk\\myenv\\lib\\site-packages (from sentence-transformers) (0.16.1)\n",
      "Requirement already satisfied: numpy in c:\\users\\ph735wk\\myenv\\lib\\site-packages (from sentence-transformers) (1.26.2)\n",
      "Requirement already satisfied: scikit-learn in c:\\users\\ph735wk\\myenv\\lib\\site-packages (from sentence-transformers) (1.3.2)\n",
      "Requirement already satisfied: scipy in c:\\users\\ph735wk\\myenv\\lib\\site-packages (from sentence-transformers) (1.11.4)\n",
      "Requirement already satisfied: nltk in c:\\users\\ph735wk\\myenv\\lib\\site-packages (from sentence-transformers) (3.8.1)\n",
      "Requirement already satisfied: sentencepiece in c:\\users\\ph735wk\\myenv\\lib\\site-packages (from sentence-transformers) (0.1.99)\n",
      "Requirement already satisfied: huggingface-hub>=0.4.0 in c:\\users\\ph735wk\\myenv\\lib\\site-packages (from sentence-transformers) (0.19.4)\n",
      "Requirement already satisfied: filelock in c:\\users\\ph735wk\\myenv\\lib\\site-packages (from huggingface-hub>=0.4.0->sentence-transformers) (3.13.1)\n",
      "Requirement already satisfied: fsspec>=2023.5.0 in c:\\users\\ph735wk\\myenv\\lib\\site-packages (from huggingface-hub>=0.4.0->sentence-transformers) (2023.10.0)\n",
      "Requirement already satisfied: requests in c:\\users\\ph735wk\\myenv\\lib\\site-packages (from huggingface-hub>=0.4.0->sentence-transformers) (2.31.0)\n",
      "Requirement already satisfied: pyyaml>=5.1 in c:\\users\\ph735wk\\myenv\\lib\\site-packages (from huggingface-hub>=0.4.0->sentence-transformers) (6.0.1)\n",
      "Requirement already satisfied: typing-extensions>=3.7.4.3 in c:\\users\\ph735wk\\myenv\\lib\\site-packages (from huggingface-hub>=0.4.0->sentence-transformers) (4.8.0)\n",
      "Requirement already satisfied: packaging>=20.9 in c:\\users\\ph735wk\\myenv\\lib\\site-packages (from huggingface-hub>=0.4.0->sentence-transformers) (23.2)\n",
      "Requirement already satisfied: sympy in c:\\users\\ph735wk\\myenv\\lib\\site-packages (from torch>=1.6.0->sentence-transformers) (1.12)\n",
      "Requirement already satisfied: networkx in c:\\users\\ph735wk\\myenv\\lib\\site-packages (from torch>=1.6.0->sentence-transformers) (3.2.1)\n",
      "Requirement already satisfied: jinja2 in c:\\users\\ph735wk\\myenv\\lib\\site-packages (from torch>=1.6.0->sentence-transformers) (3.1.2)\n",
      "Requirement already satisfied: colorama in c:\\users\\ph735wk\\myenv\\lib\\site-packages (from tqdm->sentence-transformers) (0.4.6)\n",
      "Requirement already satisfied: regex!=2019.12.17 in c:\\users\\ph735wk\\myenv\\lib\\site-packages (from transformers<5.0.0,>=4.6.0->sentence-transformers) (2023.10.3)\n",
      "Requirement already satisfied: tokenizers<0.19,>=0.14 in c:\\users\\ph735wk\\myenv\\lib\\site-packages (from transformers<5.0.0,>=4.6.0->sentence-transformers) (0.15.0)\n",
      "Requirement already satisfied: safetensors>=0.3.1 in c:\\users\\ph735wk\\myenv\\lib\\site-packages (from transformers<5.0.0,>=4.6.0->sentence-transformers) (0.4.0)\n",
      "Requirement already satisfied: click in c:\\users\\ph735wk\\myenv\\lib\\site-packages (from nltk->sentence-transformers) (8.1.7)\n",
      "Requirement already satisfied: joblib in c:\\users\\ph735wk\\myenv\\lib\\site-packages (from nltk->sentence-transformers) (1.1.1)\n",
      "Requirement already satisfied: threadpoolctl>=2.0.0 in c:\\users\\ph735wk\\myenv\\lib\\site-packages (from scikit-learn->sentence-transformers) (3.2.0)\n",
      "Requirement already satisfied: pillow!=8.3.*,>=5.3.0 in c:\\users\\ph735wk\\myenv\\lib\\site-packages (from torchvision->sentence-transformers) (10.1.0)\n",
      "Requirement already satisfied: MarkupSafe>=2.0 in c:\\users\\ph735wk\\myenv\\lib\\site-packages (from jinja2->torch>=1.6.0->sentence-transformers) (2.1.3)\n",
      "Requirement already satisfied: charset-normalizer<4,>=2 in c:\\users\\ph735wk\\myenv\\lib\\site-packages (from requests->huggingface-hub>=0.4.0->sentence-transformers) (3.3.2)\n",
      "Requirement already satisfied: idna<4,>=2.5 in c:\\users\\ph735wk\\myenv\\lib\\site-packages (from requests->huggingface-hub>=0.4.0->sentence-transformers) (3.6)\n",
      "Requirement already satisfied: urllib3<3,>=1.21.1 in c:\\users\\ph735wk\\myenv\\lib\\site-packages (from requests->huggingface-hub>=0.4.0->sentence-transformers) (2.1.0)\n",
      "Requirement already satisfied: certifi>=2017.4.17 in c:\\users\\ph735wk\\myenv\\lib\\site-packages (from requests->huggingface-hub>=0.4.0->sentence-transformers) (2023.11.17)\n",
      "Requirement already satisfied: mpmath>=0.19 in c:\\users\\ph735wk\\myenv\\lib\\site-packages (from sympy->torch>=1.6.0->sentence-transformers) (1.3.0)\n",
      "Installing collected packages: sentence-transformers\n",
      "Successfully installed sentence-transformers-2.2.2\n",
      "Note: you may need to restart the kernel to use updated packages.\n"
     ]
    },
    {
     "name": "stderr",
     "output_type": "stream",
     "text": [
      "\n",
      "[notice] A new release of pip is available: 23.3.1 -> 23.3.2\n",
      "[notice] To update, run: python.exe -m pip install --upgrade pip\n"
     ]
    }
   ],
   "source": [
    "pip install -U sentence-transformers"
   ]
  },
  {
   "cell_type": "code",
   "execution_count": 46,
   "id": "b6c4e3d6-7b57-409e-8d9e-19b3f52c0635",
   "metadata": {},
   "outputs": [
    {
     "name": "stdout",
     "output_type": "stream",
     "text": [
      "Note: you may need to restart the kernel to use updated packages.Requirement already satisfied: instructorembedding in c:\\users\\ph735wk\\myenv\\lib\\site-packages (1.0.1)\n",
      "\n"
     ]
    },
    {
     "name": "stderr",
     "output_type": "stream",
     "text": [
      "\n",
      "[notice] A new release of pip is available: 23.3.1 -> 23.3.2\n",
      "[notice] To update, run: python.exe -m pip install --upgrade pip\n"
     ]
    }
   ],
   "source": [
    "pip install instructorembedding"
   ]
  },
  {
   "cell_type": "code",
   "execution_count": 43,
   "id": "0742073e-3933-42c3-ae05-d1b1701f45e4",
   "metadata": {},
   "outputs": [
    {
     "name": "stdout",
     "output_type": "stream",
     "text": [
      "Requirement already satisfied: tqdm in c:\\users\\ph735wk\\myenv\\lib\\site-packages (4.66.1)\n",
      "Requirement already satisfied: colorama in c:\\users\\ph735wk\\myenv\\lib\\site-packages (from tqdm) (0.4.6)\n",
      "Note: you may need to restart the kernel to use updated packages.\n"
     ]
    },
    {
     "name": "stderr",
     "output_type": "stream",
     "text": [
      "\n",
      "[notice] A new release of pip is available: 23.3.1 -> 23.3.2\n",
      "[notice] To update, run: python.exe -m pip install --upgrade pip\n"
     ]
    }
   ],
   "source": [
    "pip install tqdm"
   ]
  },
  {
   "cell_type": "code",
   "execution_count": 52,
   "id": "e5d0fd6c-12c8-45ef-9689-3f28fc42518e",
   "metadata": {},
   "outputs": [],
   "source": [
    "memory = ConversationSummaryMemory(\n",
    "    llm=llm, memory_key=\"chat_history\", return_messages=True\n",
    ")"
   ]
  },
  {
   "cell_type": "code",
   "execution_count": 57,
   "id": "236c7945-7305-441a-8e1d-3924b44aa5bb",
   "metadata": {},
   "outputs": [],
   "source": [
    "from langchain.chains import ConversationalRetrievalChain\n",
    "from langchain_openai import ChatOpenAI\n",
    "chat=AzureChatOpenAI(openai_api_version=\"2023-07-01-preview\", azure_deployment=\"gpt-35-turbo\",)\n",
    "#llm = ChatOpenAI()\n",
    "retriever = vectorstore.as_retriever()\n",
    "qa = ConversationalRetrievalChain.from_llm(chat, retriever=retriever, memory=memory)"
   ]
  },
  {
   "cell_type": "code",
   "execution_count": null,
   "id": "54b5948f-8243-4fe5-a16d-3c097f24a6db",
   "metadata": {},
   "outputs": [],
   "source": []
  },
  {
   "cell_type": "code",
   "execution_count": null,
   "id": "83ea8da3-4447-4561-a1b6-ccff4df908cb",
   "metadata": {},
   "outputs": [],
   "source": []
  }
 ],
 "metadata": {
  "kernelspec": {
   "display_name": "Python 3 (ipykernel)",
   "language": "python",
   "name": "python3"
  },
  "language_info": {
   "codemirror_mode": {
    "name": "ipython",
    "version": 3
   },
   "file_extension": ".py",
   "mimetype": "text/x-python",
   "name": "python",
   "nbconvert_exporter": "python",
   "pygments_lexer": "ipython3",
   "version": "3.11.7"
  }
 },
 "nbformat": 4,
 "nbformat_minor": 5
}
